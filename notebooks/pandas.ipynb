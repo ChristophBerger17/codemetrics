{
 "cells": [
  {
   "cell_type": "code",
   "execution_count": null,
   "metadata": {},
   "outputs": [],
   "source": [
    "import os\n",
    "import os.path\n",
    "import datetime as dt\n",
    "import textwrap\n",
    "import json\n",
    "import pathlib as pth\n",
    "\n",
    "import joblib\n",
    "import pandas as pd\n",
    "import numpy as np\n",
    "import altair as alt\n",
    "from altair.vega.v4 import Vega\n",
    "\n",
    "import codemetrics as cm\n",
    "import codemetrics.vega\n",
    "\n",
    "%matplotlib inline\n",
    "def retina():\n",
    "    return {\n",
    "        'config': {\n",
    "            'view': {\n",
    "                'height': 400,\n",
    "                'width': 400 * 1.61,\n",
    "            },\n",
    "        }\n",
    "    }\n",
    "alt.themes.register('retina', retina)\n",
    "alt.themes.enable('retina')"
   ]
  },
  {
   "cell_type": "code",
   "execution_count": null,
   "metadata": {},
   "outputs": [],
   "source": [
    "import importlib\n",
    "#importlib.reload(cm)\n",
    "importlib.reload(cm.git)\n",
    "importlib.reload(cm.core)\n",
    "#importlib.reload(cm.vega)\n",
    "#importlib.reload(cm.cloc)\n",
    "#importlib.reload(cm.internals)"
   ]
  },
  {
   "cell_type": "code",
   "execution_count": null,
   "metadata": {},
   "outputs": [],
   "source": [
    "disk = joblib.Memory(location=os.getenv('TEMP'), verbose=0)\n",
    "get_cloc = disk.cache(cm.get_cloc)\n",
    "get_git_log = disk.cache(cm.get_git_log)\n",
    "year_ago = dt.datetime.now(tz=dt.timezone.utc) - dt.timedelta(365)\n",
    "target_location = pth.Path.home() / 'Documents' / 'Github' / 'pandas'\n",
    "cwd = os.path.abspath(os.path.curdir)\n",
    "os.chdir(target_location)\n",
    "get_cloc.clear()"
   ]
  },
  {
   "cell_type": "code",
   "execution_count": null,
   "metadata": {},
   "outputs": [],
   "source": [
    "cloc_program = str(pth.Path.home() / 'scripts' / 'cloc-1.64.exe')\n",
    "print(cloc_program)\n",
    "loc = get_cloc(cloc_program=cloc_program)"
   ]
  },
  {
   "cell_type": "code",
   "execution_count": null,
   "metadata": {},
   "outputs": [],
   "source": [
    "loc_sum = loc.groupby('language').sum().reset_index().melt(id_vars=['language']).rename(columns={'variable': 'type', 'value': 'lines'})\n",
    "alt.Chart(loc_sum).mark_bar().encode(\n",
    "    x=alt.X('lines:Q'),\n",
    "    y=alt.Y('language:N', sort=alt.EncodingSortField(field='lines', op='sum', order='descending')),\n",
    "    color=alt.Color('type:N', scale=alt.Scale(scheme='accent')), \n",
    "    tooltip=['lines:Q', 'type:O'],\n",
    ").properties(title='Lines of code')"
   ]
  },
  {
   "cell_type": "code",
   "execution_count": null,
   "metadata": {},
   "outputs": [],
   "source": [
    "log = get_git_log(path='.', after=year_ago, git_client='git.exe')\n",
    "log['issue'] = log['message'].str.extract(r'\\(#(\\d+)\\)')\n",
    "log = pd.merge(log, loc[['path']], left_on='path', right_on='path')"
   ]
  },
  {
   "cell_type": "code",
   "execution_count": null,
   "metadata": {},
   "outputs": [],
   "source": [
    "ages = cm.get_ages(log).groupby('path').min()[['age']].reset_index().merge(loc)  # FIXME BUG in get_ages.\n",
    "ages['last_change'] = ages['age'].apply(lambda a: pd.to_datetime('today') - dt.timedelta(a))\n",
    "ages['age_in_week'] = ages['age'].apply(lambda d: int(d / 7))\n",
    "ages.head()"
   ]
  },
  {
   "cell_type": "code",
   "execution_count": null,
   "metadata": {},
   "outputs": [],
   "source": [
    "width = 1000\n",
    "weeks = list(range(int(400 / 7)))\n",
    "chart = alt.Chart(ages).encode(color='language')\n",
    "top = chart.mark_bar().\\\n",
    "    encode(x=alt.X('age_agg:O', sort='ascending', title='age in weeks', scale=alt.Scale(domain=weeks)),\n",
    "           y=alt.Y('count(path):Q', title='Number of files'),\n",
    "           color=alt.Color('language', scale=alt.Scale(scheme='tableau10')),\n",
    "           tooltip=['count(path)', 'language']\n",
    "          ).\\\n",
    "    transform_calculate(age_agg='floor(datum.age / 7)').\\\n",
    "    properties(width=width)\n",
    "bottom = chart.mark_tick(size=60, thickness=2, opacity=.3).\\\n",
    "    encode(x=alt.X('age:Q', title='age in days'),\n",
    "           tooltip='path').properties(width=width)\n",
    "alt.vconcat(top, bottom)"
   ]
  },
  {
   "cell_type": "code",
   "execution_count": null,
   "metadata": {},
   "outputs": [],
   "source": [
    "desc = cm.vega.vis_ages(ages, height=500, width=500)\n",
    "Vega(desc)"
   ]
  },
  {
   "cell_type": "code",
   "execution_count": null,
   "metadata": {},
   "outputs": [],
   "source": [
    "path_rev_df = log[['path', 'date']].groupby('path').max().reset_index().\\\n",
    "    query(\"path.str.endswith('.py')\").merge(log[['path', 'date', 'revision']])[['path', 'revision']]\n",
    "get_complexity = disk.cache(cm.get_complexity)\n",
    "complexity = get_complexity(path_rev_df, cm.git.download_files)"
   ]
  },
  {
   "cell_type": "code",
   "execution_count": null,
   "metadata": {},
   "outputs": [],
   "source": [
    "path_avg_complexity = complexity[['path', 'cyclomatic_complexity', 'token_count']].\\\n",
    "    groupby('path').quantile(.8).sort_values(by='cyclomatic_complexity', ascending=False).reset_index().rename(columns={'cyclomatic_complexity': 'avg_cc80'})"
   ]
  },
  {
   "cell_type": "code",
   "execution_count": null,
   "metadata": {},
   "outputs": [],
   "source": [
    "loc_cc = pd.merge(loc, path_avg_complexity)"
   ]
  },
  {
   "cell_type": "code",
   "execution_count": null,
   "metadata": {},
   "outputs": [],
   "source": [
    "hspots = cm.get_hot_spots(log, loc_cc) \n",
    "hspots.query(\"language == 'Python'\").sort_values(by=['changes', 'avg_cc80'], ascending=False).head()\n",
    "hspots.head(10)"
   ]
  },
  {
   "cell_type": "code",
   "execution_count": null,
   "metadata": {},
   "outputs": [],
   "source": [
    "desc = cm.vega.vis_hot_spots(hspots, width=500, height=500, size_column='avg_cc80')\n",
    "Vega(desc)"
   ]
  },
  {
   "cell_type": "code",
   "execution_count": null,
   "metadata": {},
   "outputs": [],
   "source": [
    "co_changes = cm.get_co_changes(log, by='path', on='issue').query('coupling > .6').sort_values(by=['changes', 'cochanges'], ascending=False)\n",
    "co_changes.head()"
   ]
  },
  {
   "cell_type": "code",
   "execution_count": null,
   "metadata": {},
   "outputs": [],
   "source": [
    "path = 'pandas/core/generic.py'\n",
    "func_df = log[log['path'] == path][['date', 'revision', 'path']]"
   ]
  },
  {
   "cell_type": "code",
   "execution_count": null,
   "metadata": {},
   "outputs": [],
   "source": [
    "func_cc_df = pd.merge(func_df, get_complexity(func_df, cm.git.download_files), on=['revision', 'path'])\n",
    "top_func_df = func_cc_df.groupby('name')[['cyclomatic_complexity']].mean().nlargest(8, 'cyclomatic_complexity')\n",
    "filt_func_cc_df = func_cc_df[func_cc_df['name'].isin(set(top_func_df.index))]"
   ]
  },
  {
   "cell_type": "code",
   "execution_count": null,
   "metadata": {},
   "outputs": [],
   "source": [
    "alt.Chart(filt_func_cc_df).\\\n",
    "    mark_line().encode(\n",
    "        x='date:T',\n",
    "        y='cyclomatic_complexity:Q',\n",
    "        color='name:N',\n",
    "        tooltip=['name']\n",
    "    )"
   ]
  },
  {
   "cell_type": "code",
   "execution_count": null,
   "metadata": {},
   "outputs": [],
   "source": []
  }
 ],
 "metadata": {
  "kernelspec": {
   "display_name": "Python 3",
   "language": "python",
   "name": "python3"
  },
  "language_info": {
   "codemirror_mode": {
    "name": "ipython",
    "version": 3
   },
   "file_extension": ".py",
   "mimetype": "text/x-python",
   "name": "python",
   "nbconvert_exporter": "python",
   "pygments_lexer": "ipython3",
   "version": "3.7.0"
  }
 },
 "nbformat": 4,
 "nbformat_minor": 2
}
