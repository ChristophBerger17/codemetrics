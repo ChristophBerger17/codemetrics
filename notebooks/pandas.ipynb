{
 "cells": [
  {
   "cell_type": "markdown",
   "metadata": {},
   "source": [
    "# Code metrics analysis\n",
    "\n",
    "This notebooks demonstrates how to use __[codemetrics](https://github.com/elmotec/codemetrics)__ to gain insight on a code base."
   ]
  },
  {
   "cell_type": "code",
   "execution_count": 21,
   "metadata": {},
   "outputs": [],
   "source": [
    "import os\n",
    "import pathlib as pl\n",
    "import datetime as dt\n",
    "import textwrap\n",
    "import json\n",
    "import pathlib as pth\n",
    "import logging\n",
    "\n",
    "import joblib\n",
    "import pandas as pd\n",
    "import numpy as np\n",
    "import altair as alt\n",
    "from altair.vega.v5 import Vega\n",
    "from tqdm import tqdm\n",
    "\n",
    "import codemetrics as cm\n",
    "import codemetrics.vega\n",
    "\n",
    "%matplotlib inline"
   ]
  },
  {
   "cell_type": "code",
   "execution_count": 22,
   "metadata": {},
   "outputs": [
    {
     "name": "stdout",
     "output_type": "stream",
     "text": [
      "The autoreload extension is already loaded. To reload it, use:\n",
      "  %reload_ext autoreload\n"
     ]
    }
   ],
   "source": [
    "%load_ext autoreload\n",
    "%autoreload"
   ]
  },
  {
   "cell_type": "code",
   "execution_count": 23,
   "metadata": {},
   "outputs": [],
   "source": [
    "log = cm.log\n",
    "if not log.handlers:\n",
    "    cm.log.addHandler(logging.StreamHandler())\n",
    "cm.log.setLevel(logging.DEBUG)"
   ]
  },
  {
   "cell_type": "markdown",
   "metadata": {},
   "source": [
    "## Setup\n",
    "\n",
    "Sets up a few useful things:\n",
    "    - define a few useful variables like `year_ago` \n",
    "    - change directory to the location of the project being analyzed.\n",
    "    - joblib.Memory to cache some outputs and clearing out the cache when we execute this cell.\n"
   ]
  },
  {
   "cell_type": "code",
   "execution_count": 24,
   "metadata": {},
   "outputs": [],
   "source": [
    "# Useful variables\n",
    "year_ago = dt.datetime.now(tz=dt.timezone.utc) - dt.timedelta(365)\n",
    "\n",
    "# Change current directory to the project under being analyzed.\n",
    "target_location = str(pl.Path().absolute() / '..' / '..'/  'pandas')\n",
    "\n",
    "# Sets up caching and wipes out cache if any.\n",
    "disk = joblib.Memory(location=os.getenv('TEMP'), verbose=0)\n",
    "get_cloc = disk.cache(cm.get_cloc)\n",
    "get_git_log = disk.cache(cm.get_git_log)\n",
    "get_cloc.clear()\n",
    "get_git_log.clear()"
   ]
  },
  {
   "cell_type": "markdown",
   "metadata": {},
   "source": [
    "## Lines of code (loc)\n",
    "\n",
    "Leverage cloc to count the lines of code and infer some basic information about the languages used in this project."
   ]
  },
  {
   "cell_type": "code",
   "execution_count": 26,
   "metadata": {},
   "outputs": [
    {
     "name": "stderr",
     "output_type": "stream",
     "text": [
      "cloc.exe --csv --by-file C:\\Users\\jlecomte\\Documents\\Github\\codemetrics\\notebooks\\..\\..\\pandas\n"
     ]
    },
    {
     "name": "stdout",
     "output_type": "stream",
     "text": [
      "> \u001b[1;32mc:\\users\\jlecomte\\documents\\github\\codemetrics\\codemetrics\\internals.py\u001b[0m(101)\u001b[0;36mrun\u001b[1;34m()\u001b[0m\n",
      "\u001b[1;32m     99 \u001b[1;33m        \u001b[0mcmd_list\u001b[0m \u001b[1;33m=\u001b[0m \u001b[0mshlex\u001b[0m\u001b[1;33m.\u001b[0m\u001b[0msplit\u001b[0m\u001b[1;33m(\u001b[0m\u001b[0mcommand\u001b[0m\u001b[1;33m)\u001b[0m\u001b[1;33m\u001b[0m\u001b[1;33m\u001b[0m\u001b[0m\n",
      "\u001b[0m\u001b[1;32m    100 \u001b[1;33m        \u001b[1;32mimport\u001b[0m \u001b[0mpdb\u001b[0m\u001b[1;33m;\u001b[0m \u001b[0mpdb\u001b[0m\u001b[1;33m.\u001b[0m\u001b[0mset_trace\u001b[0m\u001b[1;33m(\u001b[0m\u001b[1;33m)\u001b[0m\u001b[1;33m\u001b[0m\u001b[1;33m\u001b[0m\u001b[0m\n",
      "\u001b[0m\u001b[1;32m--> 101 \u001b[1;33m        result = subprocess.run(\n",
      "\u001b[0m\u001b[1;32m    102 \u001b[1;33m            \u001b[0mcmd_list\u001b[0m\u001b[1;33m,\u001b[0m\u001b[1;33m\u001b[0m\u001b[1;33m\u001b[0m\u001b[0m\n",
      "\u001b[0m\u001b[1;32m    103 \u001b[1;33m            \u001b[0mcheck\u001b[0m\u001b[1;33m=\u001b[0m\u001b[1;32mTrue\u001b[0m\u001b[1;33m,\u001b[0m\u001b[1;33m\u001b[0m\u001b[1;33m\u001b[0m\u001b[0m\n",
      "\u001b[0m\n"
     ]
    },
    {
     "name": "stdin",
     "output_type": "stream",
     "text": [
      "ipdb>  cmd_list\n"
     ]
    },
    {
     "name": "stdout",
     "output_type": "stream",
     "text": [
      "['cloc.exe', '--csv', '--by-file', 'C:UsersjlecomteDocumentsGithubcodemetricsnotebooks....pandas']\n"
     ]
    },
    {
     "name": "stdin",
     "output_type": "stream",
     "text": [
      "ipdb>  command\n"
     ]
    },
    {
     "name": "stdout",
     "output_type": "stream",
     "text": [
      "'cloc.exe --csv --by-file C:\\\\Users\\\\jlecomte\\\\Documents\\\\Github\\\\codemetrics\\\\notebooks\\\\..\\\\..\\\\pandas'\n"
     ]
    },
    {
     "name": "stdin",
     "output_type": "stream",
     "text": [
      "ipdb>  shlex.split(command)\n"
     ]
    },
    {
     "name": "stdout",
     "output_type": "stream",
     "text": [
      "['cloc.exe', '--csv', '--by-file', 'C:UsersjlecomteDocumentsGithubcodemetricsnotebooks....pandas']\n"
     ]
    },
    {
     "name": "stdin",
     "output_type": "stream",
     "text": [
      "ipdb>  shlex.split(command, posix=False)\n"
     ]
    },
    {
     "name": "stdout",
     "output_type": "stream",
     "text": [
      "['cloc.exe', '--csv', '--by-file', 'C:\\\\Users\\\\jlecomte\\\\Documents\\\\Github\\\\codemetrics\\\\notebooks\\\\..\\\\..\\\\pandas']\n"
     ]
    },
    {
     "name": "stdin",
     "output_type": "stream",
     "text": [
      "ipdb>  q\n"
     ]
    },
    {
     "ename": "BdbQuit",
     "evalue": "",
     "output_type": "error",
     "traceback": [
      "\u001b[1;31m---------------------------------------------------------------------------\u001b[0m",
      "\u001b[1;31mBdbQuit\u001b[0m                                   Traceback (most recent call last)",
      "\u001b[1;32m<ipython-input-26-a1f210e0417c>\u001b[0m in \u001b[0;36m<module>\u001b[1;34m\u001b[0m\n\u001b[0;32m      1\u001b[0m \u001b[0mcloc_program\u001b[0m \u001b[1;33m=\u001b[0m \u001b[1;34m'cloc.exe'\u001b[0m\u001b[1;33m\u001b[0m\u001b[1;33m\u001b[0m\u001b[0m\n\u001b[1;32m----> 2\u001b[1;33m \u001b[0mloc\u001b[0m \u001b[1;33m=\u001b[0m \u001b[0mcm\u001b[0m\u001b[1;33m.\u001b[0m\u001b[0mget_cloc\u001b[0m\u001b[1;33m(\u001b[0m\u001b[0mpath\u001b[0m\u001b[1;33m=\u001b[0m\u001b[0mtarget_location\u001b[0m\u001b[1;33m,\u001b[0m \u001b[0mcloc_program\u001b[0m\u001b[1;33m=\u001b[0m\u001b[0mcloc_program\u001b[0m\u001b[1;33m)\u001b[0m\u001b[1;33m\u001b[0m\u001b[1;33m\u001b[0m\u001b[0m\n\u001b[0m",
      "\u001b[1;32m~\\Documents\\Github\\codemetrics\\codemetrics\\cloc.py\u001b[0m in \u001b[0;36mget_cloc\u001b[1;34m(path, cloc_program)\u001b[0m\n\u001b[0;32m     42\u001b[0m     \u001b[0mcloc_entries\u001b[0m \u001b[1;33m=\u001b[0m \u001b[1;33m[\u001b[0m\u001b[1;33m]\u001b[0m\u001b[1;33m\u001b[0m\u001b[1;33m\u001b[0m\u001b[0m\n\u001b[0;32m     43\u001b[0m     \u001b[1;32mtry\u001b[0m\u001b[1;33m:\u001b[0m\u001b[1;33m\u001b[0m\u001b[1;33m\u001b[0m\u001b[0m\n\u001b[1;32m---> 44\u001b[1;33m         \u001b[0moutput\u001b[0m \u001b[1;33m=\u001b[0m \u001b[0minternals\u001b[0m\u001b[1;33m.\u001b[0m\u001b[0mrun\u001b[0m\u001b[1;33m(\u001b[0m\u001b[0mcmdline\u001b[0m\u001b[1;33m)\u001b[0m\u001b[1;33m.\u001b[0m\u001b[0msplit\u001b[0m\u001b[1;33m(\u001b[0m\u001b[1;34m\"\\n\"\u001b[0m\u001b[1;33m)\u001b[0m\u001b[1;33m\u001b[0m\u001b[1;33m\u001b[0m\u001b[0m\n\u001b[0m\u001b[0;32m     45\u001b[0m     \u001b[1;32mexcept\u001b[0m \u001b[0mFileNotFoundError\u001b[0m \u001b[1;32mas\u001b[0m \u001b[0merr\u001b[0m\u001b[1;33m:\u001b[0m\u001b[1;33m\u001b[0m\u001b[1;33m\u001b[0m\u001b[0m\n\u001b[0;32m     46\u001b[0m         msg = (\n",
      "\u001b[1;32m~\\Documents\\Github\\codemetrics\\codemetrics\\internals.py\u001b[0m in \u001b[0;36mrun\u001b[1;34m(command, **kwargs)\u001b[0m\n\u001b[0;32m     99\u001b[0m         \u001b[0mcmd_list\u001b[0m \u001b[1;33m=\u001b[0m \u001b[0mshlex\u001b[0m\u001b[1;33m.\u001b[0m\u001b[0msplit\u001b[0m\u001b[1;33m(\u001b[0m\u001b[0mcommand\u001b[0m\u001b[1;33m)\u001b[0m\u001b[1;33m\u001b[0m\u001b[1;33m\u001b[0m\u001b[0m\n\u001b[0;32m    100\u001b[0m         \u001b[1;32mimport\u001b[0m \u001b[0mpdb\u001b[0m\u001b[1;33m;\u001b[0m \u001b[0mpdb\u001b[0m\u001b[1;33m.\u001b[0m\u001b[0mset_trace\u001b[0m\u001b[1;33m(\u001b[0m\u001b[1;33m)\u001b[0m\u001b[1;33m\u001b[0m\u001b[1;33m\u001b[0m\u001b[0m\n\u001b[1;32m--> 101\u001b[1;33m         result = subprocess.run(\n\u001b[0m\u001b[0;32m    102\u001b[0m             \u001b[0mcmd_list\u001b[0m\u001b[1;33m,\u001b[0m\u001b[1;33m\u001b[0m\u001b[1;33m\u001b[0m\u001b[0m\n\u001b[0;32m    103\u001b[0m             \u001b[0mcheck\u001b[0m\u001b[1;33m=\u001b[0m\u001b[1;32mTrue\u001b[0m\u001b[1;33m,\u001b[0m\u001b[1;33m\u001b[0m\u001b[1;33m\u001b[0m\u001b[0m\n",
      "\u001b[1;32m~\\Documents\\Github\\codemetrics\\codemetrics\\internals.py\u001b[0m in \u001b[0;36mrun\u001b[1;34m(command, **kwargs)\u001b[0m\n\u001b[0;32m     99\u001b[0m         \u001b[0mcmd_list\u001b[0m \u001b[1;33m=\u001b[0m \u001b[0mshlex\u001b[0m\u001b[1;33m.\u001b[0m\u001b[0msplit\u001b[0m\u001b[1;33m(\u001b[0m\u001b[0mcommand\u001b[0m\u001b[1;33m)\u001b[0m\u001b[1;33m\u001b[0m\u001b[1;33m\u001b[0m\u001b[0m\n\u001b[0;32m    100\u001b[0m         \u001b[1;32mimport\u001b[0m \u001b[0mpdb\u001b[0m\u001b[1;33m;\u001b[0m \u001b[0mpdb\u001b[0m\u001b[1;33m.\u001b[0m\u001b[0mset_trace\u001b[0m\u001b[1;33m(\u001b[0m\u001b[1;33m)\u001b[0m\u001b[1;33m\u001b[0m\u001b[1;33m\u001b[0m\u001b[0m\n\u001b[1;32m--> 101\u001b[1;33m         result = subprocess.run(\n\u001b[0m\u001b[0;32m    102\u001b[0m             \u001b[0mcmd_list\u001b[0m\u001b[1;33m,\u001b[0m\u001b[1;33m\u001b[0m\u001b[1;33m\u001b[0m\u001b[0m\n\u001b[0;32m    103\u001b[0m             \u001b[0mcheck\u001b[0m\u001b[1;33m=\u001b[0m\u001b[1;32mTrue\u001b[0m\u001b[1;33m,\u001b[0m\u001b[1;33m\u001b[0m\u001b[1;33m\u001b[0m\u001b[0m\n",
      "\u001b[1;32m~\\AppData\\Local\\Programs\\Python\\Python38\\lib\\bdb.py\u001b[0m in \u001b[0;36mtrace_dispatch\u001b[1;34m(self, frame, event, arg)\u001b[0m\n\u001b[0;32m     86\u001b[0m             \u001b[1;32mreturn\u001b[0m \u001b[1;31m# None\u001b[0m\u001b[1;33m\u001b[0m\u001b[1;33m\u001b[0m\u001b[0m\n\u001b[0;32m     87\u001b[0m         \u001b[1;32mif\u001b[0m \u001b[0mevent\u001b[0m \u001b[1;33m==\u001b[0m \u001b[1;34m'line'\u001b[0m\u001b[1;33m:\u001b[0m\u001b[1;33m\u001b[0m\u001b[1;33m\u001b[0m\u001b[0m\n\u001b[1;32m---> 88\u001b[1;33m             \u001b[1;32mreturn\u001b[0m \u001b[0mself\u001b[0m\u001b[1;33m.\u001b[0m\u001b[0mdispatch_line\u001b[0m\u001b[1;33m(\u001b[0m\u001b[0mframe\u001b[0m\u001b[1;33m)\u001b[0m\u001b[1;33m\u001b[0m\u001b[1;33m\u001b[0m\u001b[0m\n\u001b[0m\u001b[0;32m     89\u001b[0m         \u001b[1;32mif\u001b[0m \u001b[0mevent\u001b[0m \u001b[1;33m==\u001b[0m \u001b[1;34m'call'\u001b[0m\u001b[1;33m:\u001b[0m\u001b[1;33m\u001b[0m\u001b[1;33m\u001b[0m\u001b[0m\n\u001b[0;32m     90\u001b[0m             \u001b[1;32mreturn\u001b[0m \u001b[0mself\u001b[0m\u001b[1;33m.\u001b[0m\u001b[0mdispatch_call\u001b[0m\u001b[1;33m(\u001b[0m\u001b[0mframe\u001b[0m\u001b[1;33m,\u001b[0m \u001b[0marg\u001b[0m\u001b[1;33m)\u001b[0m\u001b[1;33m\u001b[0m\u001b[1;33m\u001b[0m\u001b[0m\n",
      "\u001b[1;32m~\\AppData\\Local\\Programs\\Python\\Python38\\lib\\bdb.py\u001b[0m in \u001b[0;36mdispatch_line\u001b[1;34m(self, frame)\u001b[0m\n\u001b[0;32m    111\u001b[0m         \u001b[1;32mif\u001b[0m \u001b[0mself\u001b[0m\u001b[1;33m.\u001b[0m\u001b[0mstop_here\u001b[0m\u001b[1;33m(\u001b[0m\u001b[0mframe\u001b[0m\u001b[1;33m)\u001b[0m \u001b[1;32mor\u001b[0m \u001b[0mself\u001b[0m\u001b[1;33m.\u001b[0m\u001b[0mbreak_here\u001b[0m\u001b[1;33m(\u001b[0m\u001b[0mframe\u001b[0m\u001b[1;33m)\u001b[0m\u001b[1;33m:\u001b[0m\u001b[1;33m\u001b[0m\u001b[1;33m\u001b[0m\u001b[0m\n\u001b[0;32m    112\u001b[0m             \u001b[0mself\u001b[0m\u001b[1;33m.\u001b[0m\u001b[0muser_line\u001b[0m\u001b[1;33m(\u001b[0m\u001b[0mframe\u001b[0m\u001b[1;33m)\u001b[0m\u001b[1;33m\u001b[0m\u001b[1;33m\u001b[0m\u001b[0m\n\u001b[1;32m--> 113\u001b[1;33m             \u001b[1;32mif\u001b[0m \u001b[0mself\u001b[0m\u001b[1;33m.\u001b[0m\u001b[0mquitting\u001b[0m\u001b[1;33m:\u001b[0m \u001b[1;32mraise\u001b[0m \u001b[0mBdbQuit\u001b[0m\u001b[1;33m\u001b[0m\u001b[1;33m\u001b[0m\u001b[0m\n\u001b[0m\u001b[0;32m    114\u001b[0m         \u001b[1;32mreturn\u001b[0m \u001b[0mself\u001b[0m\u001b[1;33m.\u001b[0m\u001b[0mtrace_dispatch\u001b[0m\u001b[1;33m\u001b[0m\u001b[1;33m\u001b[0m\u001b[0m\n\u001b[0;32m    115\u001b[0m \u001b[1;33m\u001b[0m\u001b[0m\n",
      "\u001b[1;31mBdbQuit\u001b[0m: "
     ]
    }
   ],
   "source": [
    "cloc_program = 'cloc.exe'\n",
    "loc = cm.get_cloc(path=target_location, cloc_program=cloc_program)"
   ]
  },
  {
   "cell_type": "code",
   "execution_count": 13,
   "metadata": {},
   "outputs": [
    {
     "data": {
      "text/html": [
       "<div>\n",
       "<style scoped>\n",
       "    .dataframe tbody tr th:only-of-type {\n",
       "        vertical-align: middle;\n",
       "    }\n",
       "\n",
       "    .dataframe tbody tr th {\n",
       "        vertical-align: top;\n",
       "    }\n",
       "\n",
       "    .dataframe thead th {\n",
       "        text-align: right;\n",
       "    }\n",
       "</style>\n",
       "<table border=\"1\" class=\"dataframe\">\n",
       "  <thead>\n",
       "    <tr style=\"text-align: right;\">\n",
       "      <th></th>\n",
       "      <th>language</th>\n",
       "      <th>path</th>\n",
       "      <th>blank</th>\n",
       "      <th>comment</th>\n",
       "      <th>code</th>\n",
       "    </tr>\n",
       "  </thead>\n",
       "  <tbody>\n",
       "  </tbody>\n",
       "</table>\n",
       "</div>"
      ],
      "text/plain": [
       "Empty DataFrame\n",
       "Columns: [language, path, blank, comment, code]\n",
       "Index: []"
      ]
     },
     "execution_count": 13,
     "metadata": {},
     "output_type": "execute_result"
    }
   ],
   "source": [
    "loc"
   ]
  },
  {
   "cell_type": "code",
   "execution_count": null,
   "metadata": {},
   "outputs": [],
   "source": [
    "loc_sum = loc.groupby('language').sum().reset_index().melt(id_vars=['language']).rename(columns={'variable': 'type', 'value': 'lines'})\n",
    "alt.Chart(loc_sum).mark_bar().encode(\n",
    "    x=alt.X('lines:Q'),\n",
    "    y=alt.Y('language:N', sort=alt.EncodingSortField(field='lines', op='sum', order='descending')),\n",
    "    color=alt.Color('type:N', scale=alt.Scale(scheme='accent')), \n",
    "    tooltip=['lines:Q', 'type:O'],\n",
    ").properties(title='Lines of code')"
   ]
  },
  {
   "cell_type": "markdown",
   "metadata": {},
   "source": [
    "## Retrieve git log data\n",
    "\n",
    "Now that we know what the code base looks like today, we turn our attention to history and build a data frame of the git log history for the past year. \n",
    "\n",
    "We then calculate the age of each file and generate a graph of recent changes as well as a circle visualization of the code base. "
   ]
  },
  {
   "cell_type": "code",
   "execution_count": null,
   "metadata": {},
   "outputs": [],
   "source": [
    "log = get_git_log(path='.', after=year_ago, git_client='git.exe')\n",
    "log['issue'] = log['message'].str.extract(r'\\(#(\\d+)\\)')\n",
    "log = pd.merge(log, loc[['path']], left_on='path', right_on='path')"
   ]
  },
  {
   "cell_type": "code",
   "execution_count": null,
   "metadata": {},
   "outputs": [],
   "source": [
    "ages = cm.get_ages(log).merge(loc)\n",
    "ages['last_change'] = ages['age'].apply(lambda a: pd.to_datetime('today') - dt.timedelta(a))\n",
    "ages['age_in_week'] = ages['age'].apply(lambda d: int(d / 7))\n",
    "\n",
    "width = 1000\n",
    "weeks = list(range(int(400 / 7)))\n",
    "chart = alt.Chart(ages).encode(color='language')\n",
    "top = chart.mark_bar().\\\n",
    "    encode(x=alt.X('age_agg:O', sort='ascending', title='age in weeks', scale=alt.Scale(domain=weeks)),\n",
    "           y=alt.Y('count(path):Q', title='Number of files'),\n",
    "           color=alt.Color('language', scale=alt.Scale(scheme='tableau10')),\n",
    "           tooltip=['count(path)', 'language']\n",
    "          ).\\\n",
    "    transform_calculate(age_agg='floor(datum.age / 7)').\\\n",
    "    properties(width=width)\n",
    "bottom = chart.mark_tick(size=60, thickness=2, opacity=.3).\\\n",
    "    encode(x=alt.X('age:Q', title='age in days'),\n",
    "           tooltip='path').properties(width=width)\n",
    "alt.vconcat(top, bottom)"
   ]
  },
  {
   "cell_type": "code",
   "execution_count": null,
   "metadata": {},
   "outputs": [],
   "source": [
    "code_ages = ages.query(\"path.str.endswith('.py') | path.str.endswith('.c')\")\n",
    "desc = cm.vega.vis_ages(code_ages, height=500, width=500)\n",
    "Vega(desc)"
   ]
  },
  {
   "cell_type": "markdown",
   "metadata": {},
   "source": [
    "## Complexity\n",
    "\n",
    "On to complexity calculation. Here we calculate the complexity of the current code base, file by file,\n",
    "function by function so it could take a little long. We run it on .py files only and we leverage tqdm to\n",
    "show a progress bar."
   ]
  },
  {
   "cell_type": "code",
   "execution_count": null,
   "metadata": {},
   "outputs": [],
   "source": [
    "# Get Python file with the most recent revision\n",
    "python_df = (log[['path', 'date']]\n",
    "             .groupby('path', as_index=False)\n",
    "             .max()\n",
    "             .query(\"path.str.endswith('.py')\")\n",
    "             .merge(log[['path', 'date', 'revision']])\n",
    "             .assign(path=lambda x: x[\"path\"].astype(\"string\"))\n",
    "            )\n",
    "# Progress bar for pandas\n",
    "tqdm.pandas(desc=\"calculating\")\n",
    "# Calculates complexity on python files.\n",
    "complexity = (python_df[['revision', 'path']]\n",
    "              .groupby(['revision', 'path'])\n",
    "              .progress_apply(cm.get_complexity, download_func=cm.git.download)\n",
    "             )\n"
   ]
  },
  {
   "cell_type": "code",
   "execution_count": null,
   "metadata": {},
   "outputs": [],
   "source": [
    "# Calculates 80% percentile of complexity for each file\n",
    "path_complexity = (complexity\n",
    "                   .reset_index()[['path', 'cyclomatic_complexity', 'token_count']]\n",
    "                   .groupby('path').quantile(0.8)\n",
    "                   .sort_values(by='cyclomatic_complexity', ascending=False)\n",
    "                   .reset_index()\n",
    "                   .rename(columns={'cyclomatic_complexity': 'complexity'})\n",
    "                  )\n",
    "# Merge to lines of code. \n",
    "loc_cc = pd.merge(loc, path_complexity)"
   ]
  },
  {
   "cell_type": "markdown",
   "metadata": {},
   "source": [
    "# Hot spots\n",
    "\n",
    "Hot spots are files that exhibit high complexity __and__ changed a lot recently. This is typically where you will find bugs.\n",
    "\n",
    "The graph below will show files harboring complexity as large circle while an increased number of change will make the color trend from yellow to more red shades."
   ]
  },
  {
   "cell_type": "code",
   "execution_count": null,
   "metadata": {},
   "outputs": [],
   "source": [
    "hspots = cm.get_hot_spots(log.head(1), loc_cc.head(1))"
   ]
  },
  {
   "cell_type": "code",
   "execution_count": null,
   "metadata": {},
   "outputs": [],
   "source": [
    "hspots = cm.get_hot_spots(log, loc_cc.assign(path=lambda x: x['path'].astype('string'))) \n",
    "hspots.query(\"language == 'Python'\").sort_values(by=['changes', 'complexity'], ascending=False).head()\n",
    "desc = cm.vega.vis_hot_spots(hspots, width=500, height=500, size_column='complexity')\n",
    "Vega(desc)"
   ]
  },
  {
   "cell_type": "markdown",
   "metadata": {},
   "source": [
    "## Co-changes or inter-file coupling\n",
    "\n",
    "Co-changes builds on the idea that files or functions that change together imply a hidden dependency and may need refactoring.\n",
    "\n",
    "We calculate how often each file change in relation to the other and display high level of coupling. Again, we focus on the files that have changed a lot recently."
   ]
  },
  {
   "cell_type": "code",
   "execution_count": null,
   "metadata": {},
   "outputs": [],
   "source": [
    "co_changes = cm.get_co_changes(log, by='path', on='issue').\\\n",
    "    query(\"(coupling > .6) & (changes > 20)\").\\\n",
    "    sort_values(by=['changes', 'cochanges'], ascending=False)\n",
    "co_changes"
   ]
  },
  {
   "cell_type": "markdown",
   "metadata": {},
   "source": [
    "## File level analysis\n",
    "\n",
    "It can also be useful to dive into the complexity history of one particular file or function. Let's consider the following file and calculate historical complexity of each function in the file. "
   ]
  },
  {
   "cell_type": "code",
   "execution_count": null,
   "metadata": {},
   "outputs": [],
   "source": [
    "path = 'pandas/core/frame.py'\n",
    "func_df = log[log['path'] == path][['date', 'revision', 'path']]\n",
    "func_df.head()"
   ]
  },
  {
   "cell_type": "code",
   "execution_count": null,
   "metadata": {},
   "outputs": [],
   "source": [
    "func_cplx_df = func_df.groupby(['revision', 'path']).progress_apply(cm.get_complexity, download_func=cm.git.download)"
   ]
  },
  {
   "cell_type": "code",
   "execution_count": null,
   "metadata": {},
   "outputs": [],
   "source": [
    "func_cpx_df = pd.merge(func_df, func_cplx_df.reset_index(), on=['revision', 'path'])\n",
    "top_cpx_func_df = func_cpx_df.groupby('name')[['cyclomatic_complexity']].mean().nlargest(8, 'cyclomatic_complexity')\n",
    "filt_func_cpx_df = func_cpx_df[func_cpx_df['name'].isin(set(top_cpx_func_df.index))]\n",
    "filt_func_cpx_df.head()"
   ]
  },
  {
   "cell_type": "code",
   "execution_count": null,
   "metadata": {},
   "outputs": [],
   "source": [
    "alt.Chart(filt_func_cpx_df).\\\n",
    "    mark_line().encode(\n",
    "        x='date:T',\n",
    "        y='cyclomatic_complexity:Q',\n",
    "        color='name:N',\n",
    "        tooltip=['name', 'revision']\n",
    "    )"
   ]
  },
  {
   "cell_type": "markdown",
   "metadata": {},
   "source": [
    "To be continued..."
   ]
  },
  {
   "cell_type": "code",
   "execution_count": null,
   "metadata": {},
   "outputs": [],
   "source": []
  }
 ],
 "metadata": {
  "kernelspec": {
   "display_name": "Python 3",
   "language": "python",
   "name": "python3"
  },
  "language_info": {
   "codemirror_mode": {
    "name": "ipython",
    "version": 3
   },
   "file_extension": ".py",
   "mimetype": "text/x-python",
   "name": "python",
   "nbconvert_exporter": "python",
   "pygments_lexer": "ipython3",
   "version": "3.8.6"
  }
 },
 "nbformat": 4,
 "nbformat_minor": 4
}
